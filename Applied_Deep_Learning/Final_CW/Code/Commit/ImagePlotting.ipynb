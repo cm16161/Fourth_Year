{
 "cells": [
  {
   "cell_type": "markdown",
   "metadata": {},
   "source": [
    "# Image plotting experiments\n",
    "\n",
    "This Jupyter Notebook was a playground for the qualitative section J. We used matplotlib to draw the segments of the audio files."
   ]
  },
  {
   "cell_type": "markdown",
   "metadata": {},
   "source": [
    "### Load the train and test files"
   ]
  },
  {
   "cell_type": "code",
   "execution_count": 35,
   "metadata": {},
   "outputs": [],
   "source": [
    "import pickle\n",
    "import numpy as np\n",
    "import matplotlib.pyplot as plt\n",
    "\n",
    "dataset = pickle.load(open(\"UrbanSound8K_test.pkl\", 'rb'))\n",
    "trainSet = pickle.load(open(\"UrbanSound8K_train.pkl\", 'rb'))"
   ]
  },
  {
   "cell_type": "code",
   "execution_count": 24,
   "metadata": {
    "collapsed": true
   },
   "outputs": [],
   "source": [
    "plt.rcParams['figure.figsize'] = [20, 10]"
   ]
  },
  {
   "cell_type": "markdown",
   "metadata": {},
   "source": [
    "### Plots the desired 4 sections of the image (e.g. mfcc, chroma, spectral_contrast, tonnetz)"
   ]
  },
  {
   "cell_type": "code",
   "execution_count": 34,
   "metadata": {},
   "outputs": [
    {
     "name": "stdout",
     "output_type": "stream",
     "text": [
      "(85, 41)\n"
     ]
    },
    {
     "data": {
      "image/png": "[encoded data removed]",
      "text/plain": [
       "<matplotlib.figure.Figure at 0x25f43eccda0>"
      ]
     },
     "metadata": {},
     "output_type": "display_data"
    }
   ],
   "source": [
    "index = 78 #index of the image\n",
    "\n",
    "lms = dataset[index]['features']['mfcc']\n",
    "chroma = dataset[index]['features']['chroma']\n",
    "sc = dataset[index]['features']['spectral_contrast']\n",
    "tn = dataset[index]['features']['tonnetz']\n",
    "\n",
    "feature = np.concatenate((lms,chroma,sc,tn), axis=0)\n",
    "\n",
    "print(np.shape(feature))\n",
    "\n",
    "fig, (ax1, ax2, ax3, ax4) = plt.subplots(nrows=4, gridspec_kw={'height_ratios': [60, 12, 7, 6]})\n",
    "ax1.axis('off')\n",
    "ax2.axis('off')\n",
    "ax3.axis('off')\n",
    "ax4.axis('off')\n",
    "fig.suptitle('Index 78')\n",
    "ax1.imshow(lms)\n",
    "ax2.imshow(chroma)\n",
    "ax3.imshow(sc)\n",
    "ax4.imshow(tn)\n",
    "plt.show()"
   ]
  },
  {
   "cell_type": "markdown",
   "metadata": {},
   "source": [
    "### This section will find all segments (indices) in the (test) dataset for a given audio file (that we found via the \"comparator.py\" code)"
   ]
  },
  {
   "cell_type": "code",
   "execution_count": 37,
   "metadata": {},
   "outputs": [
    {
     "name": "stdout",
     "output_type": "stream",
     "text": [
      "[2, 3, 4]\n"
     ]
    }
   ],
   "source": [
    "res = []\n",
    "for index in range(len(dataset)):\n",
    "    if dataset[index]['filename'] == \"100648-1-1-0.wav\":\n",
    "        res.append(index)\n",
    "\n",
    "print(res)"
   ]
  },
  {
   "cell_type": "code",
   "execution_count": null,
   "metadata": {
    "collapsed": true
   },
   "outputs": [],
   "source": []
  }
 ],
 "metadata": {
  "kernelspec": {
   "display_name": "Python 3",
   "language": "python",
   "name": "python3"
  },
  "language_info": {
   "codemirror_mode": {
    "name": "ipython",
    "version": 3
   },
   "file_extension": ".py",
   "mimetype": "text/x-python",
   "name": "python",
   "nbconvert_exporter": "python",
   "pygments_lexer": "ipython3",
   "version": "3.6.3"
  }
 },
 "nbformat": 4,
 "nbformat_minor": 2
}
